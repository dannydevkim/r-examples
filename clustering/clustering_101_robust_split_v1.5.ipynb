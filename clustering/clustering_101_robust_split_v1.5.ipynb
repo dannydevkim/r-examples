{
 "cells": [
  {
   "cell_type": "markdown",
   "metadata": {},
   "source": [
    "# Data Clustering and Segmentation Analysis\n",
    "## Robust k-medoids in Action - Part 1 Data Split\n",
    "<b>Author:</b> Jacob Cybulski<br>\n",
    "<b>Version:</b> V1.5, Sept 2019\n",
    "\n",
    "<b>Data:</b> Ames Housing Dataset<br>\n",
    "<b>Prepared by:</b> Dean De Cock, <a href=\"http://jse.amstat.org/v19n3/decock.pdf\" target=\"new\">\"Ames, Iowa: Alternative to the Boston Housing Data as an End of Semester Regression Project\"</a>,<br>\n",
    "Journal of Statistics Education, Volume 19, Number 3(2011). With <a href=\"http://jse.amstat.org/v19n3/decock/AmesHousing.txt\" target=\"new\">data</a> and <a href=\"http://jse.amstat.org/v19n3/decock/DataDocumentation.txt\" target=\"new\">description</a>.<br>\n",
    "<b>Kaggle URL:</b> https://www.kaggle.com/prevek18/ames-housing-dataset \n",
    "\n",
    "<b>Challenge Data:</b> Melbourne Real Estate Dataset<br>\n",
    "<b>Kaggle URL:</b> https://www.kaggle.com/anthonypino/melbourne-housing-market\n",
    "\n",
    "<b>Problem:</b> Split data into training and testing partitions"
   ]
  },
  {
   "cell_type": "markdown",
   "metadata": {},
   "source": [
    "## Acquire and split data\n",
    "<i>This data set describes real-estate properties sold in Ames, Iowa (USA) in the period 2006 to 2010. The data has 2930 observations, described with 82 variables, some with missing values. It is commonly used to train a model (e.g. regression) to predict a sale price. In this notebook we will use this data set to illustrate medoid-based cluster analysis.</i>"
   ]
  },
  {
   "cell_type": "code",
   "execution_count": 1,
   "metadata": {},
   "outputs": [
    {
     "name": "stdout",
     "output_type": "stream",
     "text": [
      "[1] \"/home/jacob/Dropbox/Dev/R Projects/Notebooks/Seminar on Clustering\"\n"
     ]
    }
   ],
   "source": [
    "##### Read the data set\n",
    "print(getwd())"
   ]
  },
  {
   "cell_type": "code",
   "execution_count": 2,
   "metadata": {},
   "outputs": [
    {
     "name": "stdout",
     "output_type": "stream",
     "text": [
      "Data:  2930"
     ]
    },
    {
     "data": {
      "text/html": [
       "<table>\n",
       "<caption>A data.frame: 6 × 82</caption>\n",
       "<thead>\n",
       "\t<tr><th scope=col>Order</th><th scope=col>PID</th><th scope=col>MS_SubClass</th><th scope=col>MS_Zoning</th><th scope=col>Lot_Frontage</th><th scope=col>Lot_Area</th><th scope=col>Street</th><th scope=col>Alley</th><th scope=col>Lot_Shape</th><th scope=col>Land_Contour</th><th scope=col>⋯</th><th scope=col>Pool_Area</th><th scope=col>Pool_QC</th><th scope=col>Fence</th><th scope=col>Misc_Feature</th><th scope=col>Misc_Val</th><th scope=col>Mo_Sold</th><th scope=col>Yr_Sold</th><th scope=col>Sale_Type</th><th scope=col>Sale_Condition</th><th scope=col>SalePrice</th></tr>\n",
       "\t<tr><th scope=col>&lt;int&gt;</th><th scope=col>&lt;int&gt;</th><th scope=col>&lt;int&gt;</th><th scope=col>&lt;fct&gt;</th><th scope=col>&lt;int&gt;</th><th scope=col>&lt;int&gt;</th><th scope=col>&lt;fct&gt;</th><th scope=col>&lt;fct&gt;</th><th scope=col>&lt;fct&gt;</th><th scope=col>&lt;fct&gt;</th><th scope=col>⋯</th><th scope=col>&lt;int&gt;</th><th scope=col>&lt;fct&gt;</th><th scope=col>&lt;fct&gt;</th><th scope=col>&lt;fct&gt;</th><th scope=col>&lt;int&gt;</th><th scope=col>&lt;int&gt;</th><th scope=col>&lt;int&gt;</th><th scope=col>&lt;fct&gt;</th><th scope=col>&lt;fct&gt;</th><th scope=col>&lt;int&gt;</th></tr>\n",
       "</thead>\n",
       "<tbody>\n",
       "\t<tr><td>1</td><td>526301100</td><td>20</td><td>RL</td><td>141</td><td>31770</td><td>Pave</td><td>NA</td><td>IR1</td><td>Lvl</td><td>⋯</td><td>0</td><td>NA</td><td>NA   </td><td>NA  </td><td>    0</td><td>5</td><td>2010</td><td>WD </td><td>Normal</td><td>215000</td></tr>\n",
       "\t<tr><td>2</td><td>526350040</td><td>20</td><td>RH</td><td> 80</td><td>11622</td><td>Pave</td><td>NA</td><td>Reg</td><td>Lvl</td><td>⋯</td><td>0</td><td>NA</td><td>MnPrv</td><td>NA  </td><td>    0</td><td>6</td><td>2010</td><td>WD </td><td>Normal</td><td>105000</td></tr>\n",
       "\t<tr><td>3</td><td>526351010</td><td>20</td><td>RL</td><td> 81</td><td>14267</td><td>Pave</td><td>NA</td><td>IR1</td><td>Lvl</td><td>⋯</td><td>0</td><td>NA</td><td>NA   </td><td>Gar2</td><td>12500</td><td>6</td><td>2010</td><td>WD </td><td>Normal</td><td>172000</td></tr>\n",
       "\t<tr><td>4</td><td>526353030</td><td>20</td><td>RL</td><td> 93</td><td>11160</td><td>Pave</td><td>NA</td><td>Reg</td><td>Lvl</td><td>⋯</td><td>0</td><td>NA</td><td>NA   </td><td>NA  </td><td>    0</td><td>4</td><td>2010</td><td>WD </td><td>Normal</td><td>244000</td></tr>\n",
       "\t<tr><td>5</td><td>527105010</td><td>60</td><td>RL</td><td> 74</td><td>13830</td><td>Pave</td><td>NA</td><td>IR1</td><td>Lvl</td><td>⋯</td><td>0</td><td>NA</td><td>MnPrv</td><td>NA  </td><td>    0</td><td>3</td><td>2010</td><td>WD </td><td>Normal</td><td>189900</td></tr>\n",
       "\t<tr><td>6</td><td>527105030</td><td>60</td><td>RL</td><td> 78</td><td> 9978</td><td>Pave</td><td>NA</td><td>IR1</td><td>Lvl</td><td>⋯</td><td>0</td><td>NA</td><td>NA   </td><td>NA  </td><td>    0</td><td>6</td><td>2010</td><td>WD </td><td>Normal</td><td>195500</td></tr>\n",
       "</tbody>\n",
       "</table>\n"
      ],
      "text/latex": [
       "A data.frame: 6 × 82\n",
       "\\begin{tabular}{r|llllllllllllllllllllllllllllllllllllllllllllllllllllllllllllllllllllllllllllllllll}\n",
       " Order & PID & MS\\_SubClass & MS\\_Zoning & Lot\\_Frontage & Lot\\_Area & Street & Alley & Lot\\_Shape & Land\\_Contour & Utilities & Lot\\_Config & Land\\_Slope & Neighborhood & Condition\\_1 & Condition\\_2 & Bldg\\_Type & House\\_Style & Overall\\_Qual & Overall\\_Cond & Year\\_Built & Year\\_Remod.Add & Roof\\_Style & Roof\\_Matl & Exterior\\_1st & Exterior\\_2nd & Mas\\_Vnr\\_Type & Mas\\_Vnr\\_Area & Exter\\_Qual & Exter\\_Cond & Foundation & Bsmt\\_Qual & Bsmt\\_Cond & Bsmt\\_Exposure & BsmtFin\\_Type\\_1 & BsmtFin\\_SF\\_1 & BsmtFin\\_Type\\_2 & BsmtFin\\_SF\\_2 & Bsmt\\_Unf\\_SF & Total\\_Bsmt\\_SF & Heating & Heating\\_QC & Central\\_Air & Electrical & X1st\\_Flr\\_SF & X2nd\\_Flr\\_SF & Low\\_Qual\\_Fin\\_SF & Gr\\_Liv\\_Area & Bsmt\\_Full\\_Bath & Bsmt\\_Half\\_Bath & Full\\_Bath & Half\\_Bath & Bedroom\\_AbvGr & Kitchen\\_AbvGr & Kitchen\\_Qual & TotRms\\_AbvGrd & Functional & Fireplaces & Fireplace\\_Qu & Garage\\_Type & Garage\\_Yr\\_Blt & Garage\\_Finish & Garage\\_Cars & Garage\\_Area & Garage\\_Qual & Garage\\_Cond & Paved\\_Drive & Wood\\_Deck\\_SF & Open\\_Porch\\_SF & Enclosed\\_Porch & X3Ssn\\_Porch & Screen\\_Porch & Pool\\_Area & Pool\\_QC & Fence & Misc\\_Feature & Misc\\_Val & Mo\\_Sold & Yr\\_Sold & Sale\\_Type & Sale\\_Condition & SalePrice\\\\\n",
       " <int> & <int> & <int> & <fct> & <int> & <int> & <fct> & <fct> & <fct> & <fct> & <fct> & <fct> & <fct> & <fct> & <fct> & <fct> & <fct> & <fct> & <int> & <int> & <int> & <int> & <fct> & <fct> & <fct> & <fct> & <fct> & <int> & <fct> & <fct> & <fct> & <fct> & <fct> & <fct> & <fct> & <int> & <fct> & <int> & <int> & <int> & <fct> & <fct> & <fct> & <fct> & <int> & <int> & <int> & <int> & <int> & <int> & <int> & <int> & <int> & <int> & <fct> & <int> & <fct> & <int> & <fct> & <fct> & <int> & <fct> & <int> & <int> & <fct> & <fct> & <fct> & <int> & <int> & <int> & <int> & <int> & <int> & <fct> & <fct> & <fct> & <int> & <int> & <int> & <fct> & <fct> & <int>\\\\\n",
       "\\hline\n",
       "\t 1 & 526301100 & 20 & RL & 141 & 31770 & Pave & NA & IR1 & Lvl & AllPub & Corner & Gtl & NAmes   & Norm  & Norm & 1Fam & 1Story & 6 & 5 & 1960 & 1960 & Hip   & CompShg & BrkFace & Plywood & Stone   & 112 & TA & TA & CBlock & TA & Gd & Gd & BLQ &  639 & Unf &   0 &  441 & 1080 & GasA & Fa & Y & SBrkr & 1656 &   0 & 0 & 1656 & 1 & 0 & 1 & 0 & 3 & 1 & TA & 7 & Typ & 2 & Gd & Attchd & 1960 & Fin & 2 & 528 & TA & TA & P & 210 & 62 & 0 & 0 &   0 & 0 & NA & NA    & NA   &     0 & 5 & 2010 & WD  & Normal & 215000\\\\\n",
       "\t 2 & 526350040 & 20 & RH &  80 & 11622 & Pave & NA & Reg & Lvl & AllPub & Inside & Gtl & NAmes   & Feedr & Norm & 1Fam & 1Story & 5 & 6 & 1961 & 1961 & Gable & CompShg & VinylSd & VinylSd & None    &   0 & TA & TA & CBlock & TA & TA & No & Rec &  468 & LwQ & 144 &  270 &  882 & GasA & TA & Y & SBrkr &  896 &   0 & 0 &  896 & 0 & 0 & 1 & 0 & 2 & 1 & TA & 5 & Typ & 0 & NA & Attchd & 1961 & Unf & 1 & 730 & TA & TA & Y & 140 &  0 & 0 & 0 & 120 & 0 & NA & MnPrv & NA   &     0 & 6 & 2010 & WD  & Normal & 105000\\\\\n",
       "\t 3 & 526351010 & 20 & RL &  81 & 14267 & Pave & NA & IR1 & Lvl & AllPub & Corner & Gtl & NAmes   & Norm  & Norm & 1Fam & 1Story & 6 & 6 & 1958 & 1958 & Hip   & CompShg & Wd Sdng & Wd Sdng & BrkFace & 108 & TA & TA & CBlock & TA & TA & No & ALQ &  923 & Unf &   0 &  406 & 1329 & GasA & TA & Y & SBrkr & 1329 &   0 & 0 & 1329 & 0 & 0 & 1 & 1 & 3 & 1 & Gd & 6 & Typ & 0 & NA & Attchd & 1958 & Unf & 1 & 312 & TA & TA & Y & 393 & 36 & 0 & 0 &   0 & 0 & NA & NA    & Gar2 & 12500 & 6 & 2010 & WD  & Normal & 172000\\\\\n",
       "\t 4 & 526353030 & 20 & RL &  93 & 11160 & Pave & NA & Reg & Lvl & AllPub & Corner & Gtl & NAmes   & Norm  & Norm & 1Fam & 1Story & 7 & 5 & 1968 & 1968 & Hip   & CompShg & BrkFace & BrkFace & None    &   0 & Gd & TA & CBlock & TA & TA & No & ALQ & 1065 & Unf &   0 & 1045 & 2110 & GasA & Ex & Y & SBrkr & 2110 &   0 & 0 & 2110 & 1 & 0 & 2 & 1 & 3 & 1 & Ex & 8 & Typ & 2 & TA & Attchd & 1968 & Fin & 2 & 522 & TA & TA & Y &   0 &  0 & 0 & 0 &   0 & 0 & NA & NA    & NA   &     0 & 4 & 2010 & WD  & Normal & 244000\\\\\n",
       "\t 5 & 527105010 & 60 & RL &  74 & 13830 & Pave & NA & IR1 & Lvl & AllPub & Inside & Gtl & Gilbert & Norm  & Norm & 1Fam & 2Story & 5 & 5 & 1997 & 1998 & Gable & CompShg & VinylSd & VinylSd & None    &   0 & TA & TA & PConc  & Gd & TA & No & GLQ &  791 & Unf &   0 &  137 &  928 & GasA & Gd & Y & SBrkr &  928 & 701 & 0 & 1629 & 0 & 0 & 2 & 1 & 3 & 1 & TA & 6 & Typ & 1 & TA & Attchd & 1997 & Fin & 2 & 482 & TA & TA & Y & 212 & 34 & 0 & 0 &   0 & 0 & NA & MnPrv & NA   &     0 & 3 & 2010 & WD  & Normal & 189900\\\\\n",
       "\t 6 & 527105030 & 60 & RL &  78 &  9978 & Pave & NA & IR1 & Lvl & AllPub & Inside & Gtl & Gilbert & Norm  & Norm & 1Fam & 2Story & 6 & 6 & 1998 & 1998 & Gable & CompShg & VinylSd & VinylSd & BrkFace &  20 & TA & TA & PConc  & TA & TA & No & GLQ &  602 & Unf &   0 &  324 &  926 & GasA & Ex & Y & SBrkr &  926 & 678 & 0 & 1604 & 0 & 0 & 2 & 1 & 3 & 1 & Gd & 7 & Typ & 1 & Gd & Attchd & 1998 & Fin & 2 & 470 & TA & TA & Y & 360 & 36 & 0 & 0 &   0 & 0 & NA & NA    & NA   &     0 & 6 & 2010 & WD  & Normal & 195500\\\\\n",
       "\\end{tabular}\n"
      ],
      "text/markdown": [
       "\n",
       "A data.frame: 6 × 82\n",
       "\n",
       "| Order &lt;int&gt; | PID &lt;int&gt; | MS_SubClass &lt;int&gt; | MS_Zoning &lt;fct&gt; | Lot_Frontage &lt;int&gt; | Lot_Area &lt;int&gt; | Street &lt;fct&gt; | Alley &lt;fct&gt; | Lot_Shape &lt;fct&gt; | Land_Contour &lt;fct&gt; | ⋯ ⋯ | Pool_Area &lt;int&gt; | Pool_QC &lt;fct&gt; | Fence &lt;fct&gt; | Misc_Feature &lt;fct&gt; | Misc_Val &lt;int&gt; | Mo_Sold &lt;int&gt; | Yr_Sold &lt;int&gt; | Sale_Type &lt;fct&gt; | Sale_Condition &lt;fct&gt; | SalePrice &lt;int&gt; |\n",
       "|---|---|---|---|---|---|---|---|---|---|---|---|---|---|---|---|---|---|---|---|---|\n",
       "| 1 | 526301100 | 20 | RL | 141 | 31770 | Pave | NA | IR1 | Lvl | ⋯ | 0 | NA | NA    | NA   |     0 | 5 | 2010 | WD  | Normal | 215000 |\n",
       "| 2 | 526350040 | 20 | RH |  80 | 11622 | Pave | NA | Reg | Lvl | ⋯ | 0 | NA | MnPrv | NA   |     0 | 6 | 2010 | WD  | Normal | 105000 |\n",
       "| 3 | 526351010 | 20 | RL |  81 | 14267 | Pave | NA | IR1 | Lvl | ⋯ | 0 | NA | NA    | Gar2 | 12500 | 6 | 2010 | WD  | Normal | 172000 |\n",
       "| 4 | 526353030 | 20 | RL |  93 | 11160 | Pave | NA | Reg | Lvl | ⋯ | 0 | NA | NA    | NA   |     0 | 4 | 2010 | WD  | Normal | 244000 |\n",
       "| 5 | 527105010 | 60 | RL |  74 | 13830 | Pave | NA | IR1 | Lvl | ⋯ | 0 | NA | MnPrv | NA   |     0 | 3 | 2010 | WD  | Normal | 189900 |\n",
       "| 6 | 527105030 | 60 | RL |  78 |  9978 | Pave | NA | IR1 | Lvl | ⋯ | 0 | NA | NA    | NA   |     0 | 6 | 2010 | WD  | Normal | 195500 |\n",
       "\n"
      ],
      "text/plain": [
       "  Order PID       MS_SubClass MS_Zoning Lot_Frontage Lot_Area Street Alley\n",
       "1 1     526301100 20          RL        141          31770    Pave   NA   \n",
       "2 2     526350040 20          RH         80          11622    Pave   NA   \n",
       "3 3     526351010 20          RL         81          14267    Pave   NA   \n",
       "4 4     526353030 20          RL         93          11160    Pave   NA   \n",
       "5 5     527105010 60          RL         74          13830    Pave   NA   \n",
       "6 6     527105030 60          RL         78           9978    Pave   NA   \n",
       "  Lot_Shape Land_Contour ⋯ Pool_Area Pool_QC Fence Misc_Feature Misc_Val\n",
       "1 IR1       Lvl          ⋯ 0         NA      NA    NA               0   \n",
       "2 Reg       Lvl          ⋯ 0         NA      MnPrv NA               0   \n",
       "3 IR1       Lvl          ⋯ 0         NA      NA    Gar2         12500   \n",
       "4 Reg       Lvl          ⋯ 0         NA      NA    NA               0   \n",
       "5 IR1       Lvl          ⋯ 0         NA      MnPrv NA               0   \n",
       "6 IR1       Lvl          ⋯ 0         NA      NA    NA               0   \n",
       "  Mo_Sold Yr_Sold Sale_Type Sale_Condition SalePrice\n",
       "1 5       2010    WD        Normal         215000   \n",
       "2 6       2010    WD        Normal         105000   \n",
       "3 6       2010    WD        Normal         172000   \n",
       "4 4       2010    WD        Normal         244000   \n",
       "5 3       2010    WD        Normal         189900   \n",
       "6 6       2010    WD        Normal         195500   "
      ]
     },
     "metadata": {},
     "output_type": "display_data"
    }
   ],
   "source": [
    "# Read all data\n",
    "houses <- read.csv(file = \"Data/AmesHousing.csv\", header = TRUE)\n",
    "cat(paste(\"Data: \", nrow(houses)))\n",
    "head(houses)"
   ]
  },
  {
   "cell_type": "code",
   "execution_count": 3,
   "metadata": {},
   "outputs": [
    {
     "name": "stdout",
     "output_type": "stream",
     "text": [
      "Training set:  2000 \tTest set:  930"
     ]
    }
   ],
   "source": [
    "# Split data for cluster training and testing\n",
    "#   plus a small training set for charting, and testing\n",
    "set.seed(2019)\n",
    "sample.size <- 2930\n",
    "train.size <- 2000\n",
    "small.train.size <- 100\n",
    "test.size <- sample.size - train.size\n",
    "sample.idx <- sample(seq_len(nrow(houses)), size = sample.size)\n",
    "sample.houses <- houses[sample.idx,]\n",
    "train.idx <- sample(seq_len(nrow(sample.houses)), size = train.size)\n",
    "train.houses <- sample.houses[train.idx, ]\n",
    "test.houses <- sample.houses[-train.idx, ]\n",
    "\n",
    "# Save both partitions to disk\n",
    "write.csv(train.houses, file=\"Data/AmesHousing-Train.csv\")\n",
    "write.csv(test.houses, file=\"Data/AmesHousing-Test.csv\")\n",
    "cat(\"Training set: \", nrow(train.houses), \"\\tTest set: \", nrow(test.houses))"
   ]
  },
  {
   "cell_type": "code",
   "execution_count": null,
   "metadata": {},
   "outputs": [],
   "source": []
  }
 ],
 "metadata": {
  "kernelspec": {
   "display_name": "R",
   "language": "R",
   "name": "ir"
  },
  "language_info": {
   "codemirror_mode": "r",
   "file_extension": ".r",
   "mimetype": "text/x-r-source",
   "name": "R",
   "pygments_lexer": "r",
   "version": "3.6.1"
  }
 },
 "nbformat": 4,
 "nbformat_minor": 2
}
